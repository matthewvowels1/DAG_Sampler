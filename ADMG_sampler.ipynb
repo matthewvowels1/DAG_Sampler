{
 "cells": [
  {
   "cell_type": "code",
   "execution_count": 2,
   "id": "4b65ce0b",
   "metadata": {},
   "outputs": [],
   "source": [
    "import numpy as np\n",
    "from tqdm import trange\n",
    "import matplotlib.pyplot as plt\n",
    "from graph_sim_v2 import*\n",
    "from itertools import combinations"
   ]
  },
  {
   "cell_type": "code",
   "execution_count": 25,
   "id": "2e2aebdb",
   "metadata": {},
   "outputs": [],
   "source": [
    "class DAGSampler:\n",
    "    def __init__(self, library=[], num_nodes=3, admg=False):\n",
    "        if library == None:\n",
    "            self.library = []\n",
    "        else:\n",
    "            self.library = library\n",
    "            \n",
    "        self.num_nodes = num_nodes\n",
    "        self.admg = admg  # whether to also sample bidirected edges\n",
    "        # calculate the number of elements in a lower triangular matrix num_nodes x num_nodes\n",
    "        # this is also the number of possible pairs\n",
    "        self.num_pairs = num_nodes * (num_nodes - 1) / 2\n",
    "           \n",
    "    \n",
    "    def _dag_gen(self, num_nodes):\n",
    "        '''\n",
    "        :param num_nodes: number of desired nodes in sampled DAG (int)\n",
    "        :return: canonical form: unique graph for isomorphic set [num_nodes x num_nodes]\n",
    "        '''\n",
    "        # randomly generate edges for graph\n",
    "        ran_lotril = np.random.randint(0, high=2, size=int(self.num_pairs))\n",
    "\n",
    "        # populate the lower triangular matrix with the randomly generated edges\n",
    "        idx = np.tril_indices(num_nodes, k=-1)\n",
    "        matrix = np.zeros((num_nodes, num_nodes)).astype(int)\n",
    "        matrix[idx] = ran_lotril\n",
    "        return nx.from_numpy_matrix(matrix, create_using=nx.MultiDiGraph)    \n",
    "    \n",
    "    def _generate_canonical_library(self, num_nodes, graph_history, verbose=False):\n",
    "        # generate a networkx object digraph (DAG)\n",
    "        dag_nx = self._dag_gen(num_nodes=num_nodes)\n",
    "        \n",
    "        if self.admg:\n",
    "            dag_nx = self._add_unobserved(dag_nx)\n",
    "\n",
    "        ug_nx = self._dag_to_ug(dag_nx)  # transform sampled DAG into UG\n",
    "\n",
    "        already_sampled = False\n",
    "        for d_nx in graph_history:\n",
    "            ug_d_nx = self._dag_to_ug((d_nx))  # transform history into UG\n",
    "            already_sampled = nx.is_isomorphic(ug_d_nx, ug_nx)  # check if isomorphic with any in history\n",
    "\n",
    "            if already_sampled == False:\n",
    "                pass\n",
    "            else:\n",
    "                break\n",
    "                \n",
    "        if not already_sampled:  # if we haven't already sampled this canonical form, return it\n",
    "            if verbose == True:\n",
    "                print('New graph found.') \n",
    "            return dag_nx, already_sampled\n",
    "        else:\n",
    "            if verbose == True: \n",
    "                print('Graph already sampled.') \n",
    "            return None, already_sampled\n",
    "        \n",
    "        \n",
    "    def _dag_to_ug(self, dag):\n",
    "        num_nodes = dag.number_of_nodes()\n",
    "        UG = nx.Graph()\n",
    "        a = num_nodes\n",
    "        for edge in dag.edges:\n",
    "            from_ = edge[0]\n",
    "            to_ = edge[1]\n",
    "            UG.add_edge(from_, a)\n",
    "            UG.add_edge(a, to_)\n",
    "            UG.add_edge(from_, a + 1)\n",
    "            UG.add_edge(a + 1, a)\n",
    "            a += 2\n",
    "        return UG    \n",
    "    \n",
    "    def _edge_probas(self, graph):\n",
    "        # gets edge probabilities\n",
    "        num_edges = len(graph.edges)\n",
    "        probas = np.random.uniform(0.5, 1, size=num_edges)\n",
    "        return probas\n",
    "\n",
    "        \n",
    "    def _add_unobserved(self, graph):\n",
    "        # pick number of unobserved\n",
    "        num_unobs = np.random.randint(1, self.num_nodes) # at least one unobserved var for admg\n",
    "        # list all nodes\n",
    "        nodes = np.arange(self.num_nodes)\n",
    "        # enumerate all possible pairs\n",
    "        pairs = [comb for comb in combinations(nodes, 2)]\n",
    "        # pick num_obs from list of possible pairs\n",
    "        unobs_links = [pairs[i] for i in range(num_unobs)]\n",
    "\n",
    "        for i, nodes in enumerate(unobs_links):\n",
    "            from_ = nodes[0]\n",
    "            to_ = nodes[1]\n",
    "            u_name = 'U{}'.format(i)\n",
    "            graph.add_node(u_name)\n",
    "            graph.add_edge(u_name, from_, weight=1)\n",
    "            graph.add_edge(u_name, to_, weight=1)\n",
    "\n",
    "        return graph \n",
    "        \n",
    "    def generate_library(self, plot=False, verbose=False, max_iters=100, epsilon=0.1):\n",
    "        t = trange(max_iters, desc='Rate:', leave=True)\n",
    "        new_graphs = 0 \n",
    "        \n",
    "        for i in t:\n",
    "        \n",
    "            graph, already_sampled_flag = self._generate_canonical_library(num_nodes=self.num_nodes,\n",
    "                                                                     graph_history=self.library,\n",
    "                                                                         verbose=verbose)\n",
    "                \n",
    "            if (graph != None) and (plot == True):\n",
    "                self.show_graph(graph, directed=True)               \n",
    "                \n",
    "            if already_sampled_flag:\n",
    "                pass\n",
    "            else:\n",
    "                new_graphs += 1\n",
    "                self.library.append(graph)\n",
    "                \n",
    "            q =  new_graphs/(i+1)# new graph discovery rate\n",
    "            t.set_description(\"Rate: {})\".format(np.round(q, 4)))\n",
    "            t.refresh() # to show immediately the update\n",
    "            \n",
    "            if q <= epsilon:\n",
    "                print('Graph discovery rate fallen below epsilon = {}'.format(epsilon))\n",
    "                break\n",
    "        return self.library\n",
    "                \n",
    "    def edge_weighting(self, graph):\n",
    "              \n",
    "        edge_weights = self._edge_probas(graph)\n",
    "        \n",
    "        for i, e in enumerate(graph.edges(data=True)):\n",
    "            from_ = e[0]\n",
    "            to_ = e[1]\n",
    "            graph[from_][to_][0]['weight'] = edge_weights[i]\n",
    "            \n",
    "        if self.admg:\n",
    "            U_nodes = [node for node in graph.nodes() if 'U' in str(node)]\n",
    "            for node in U_nodes:\n",
    "                edge = list(graph.edges(node, data=True))\n",
    "                from_ = edge[0][1]\n",
    "                to_ = edge[1][1]\n",
    "                edge_w1 = edge[0][2]['weight']\n",
    "                edge_w2 = edge[1][2]['weight']\n",
    "                av_weight = (edge_w1 + edge_w2) / 2\n",
    "                graph[node][from_][0]['weight'] = av_weight\n",
    "                graph[node][to_][0]['weight'] = av_weight\n",
    "        \n",
    "        return graph\n",
    "    \n",
    "\n",
    "    def show_graph(self, graph, directed, weights=False):\n",
    "        # function for plotting a graph (directed or undirected)\n",
    "        labels = nx.get_edge_attributes(graph, 'weight')\n",
    "        pos = nx.spring_layout(graph)\n",
    "        nx.draw(graph, pos, node_size=500, with_labels=True, arrows=directed, connectionstyle='arc3, rad = 0.1')\n",
    "        if weights:\n",
    "            labels = dict([((u,v,), f\"{d['weight']:.2f}\") for u,v,d in graph.edges(data=True)])\n",
    "            nx.draw_networkx_edge_labels(graph, pos, edge_labels=labels)\n",
    "        plt.show()"
   ]
  },
  {
   "cell_type": "code",
   "execution_count": 26,
   "id": "93aa111e",
   "metadata": {},
   "outputs": [
    {
     "name": "stderr",
     "output_type": "stream",
     "text": [
      "Rate: 0.1):  70%|██████▉   | 139/200 [00:00<00:00, 615.97it/s]   \n"
     ]
    },
    {
     "name": "stdout",
     "output_type": "stream",
     "text": [
      "Graph discovery rate fallen below epsilon = 0.1\n"
     ]
    },
    {
     "data": {
      "image/png": "[encoded data removed]",
      "text/plain": [
       "<Figure size 432x288 with 1 Axes>"
      ]
     },
     "metadata": {},
     "output_type": "display_data"
    }
   ],
   "source": [
    "\n",
    "# Example Usage:\n",
    "# epsilon is the minimum graph discovery rate \n",
    "ds = DAGSampler(library=[], num_nodes=3, admg=True)\n",
    "ds.generate_library(plot=False, verbose=False, max_iters=200, epsilon=0.1)\n",
    "\n",
    "graph = ds.library[0]\n",
    "proba_graph = ds.edge_weighting(graph=graph)\n",
    "ds.show_graph(proba_graph, directed=True, weights=True)"
   ]
  },
  {
   "cell_type": "code",
   "execution_count": 27,
   "id": "fa201c4a",
   "metadata": {},
   "outputs": [],
   "source": [
    "ds = DAGSampler(library=None, num_nodes=3, admg=True)"
   ]
  },
  {
   "cell_type": "code",
   "execution_count": 28,
   "id": "5d1d7def",
   "metadata": {},
   "outputs": [
    {
     "name": "stderr",
     "output_type": "stream",
     "text": [
      "Rate: 0.1):  70%|██████▉   | 139/200 [00:00<00:00, 676.82it/s]   "
     ]
    },
    {
     "name": "stdout",
     "output_type": "stream",
     "text": [
      "Graph discovery rate fallen below epsilon = 0.1\n"
     ]
    },
    {
     "name": "stderr",
     "output_type": "stream",
     "text": [
      "\n"
     ]
    }
   ],
   "source": [
    "lib = ds.generate_library(plot=False, verbose=False, max_iters=200, epsilon=0.1)"
   ]
  },
  {
   "cell_type": "code",
   "execution_count": 21,
   "id": "b5cbd34e",
   "metadata": {},
   "outputs": [
    {
     "data": {
      "image/png": "[encoded data removed]",
      "text/plain": [
       "<Figure size 432x288 with 1 Axes>"
      ]
     },
     "metadata": {},
     "output_type": "display_data"
    }
   ],
   "source": [
    "graph = ds.library[0]\n",
    "ds.show_graph(graph, directed=True)"
   ]
  },
  {
   "cell_type": "code",
   "execution_count": 22,
   "id": "e1986fe9",
   "metadata": {},
   "outputs": [
    {
     "data": {
      "image/png": "[encoded data removed]",
      "text/plain": [
       "<Figure size 432x288 with 1 Axes>"
      ]
     },
     "metadata": {},
     "output_type": "display_data"
    }
   ],
   "source": [
    "graph_proba = ds.edge_weighting(graph)\n",
    "ds.show_graph(graph_proba, directed=True, weights=True)"
   ]
  },
  {
   "cell_type": "code",
   "execution_count": null,
   "id": "445c36ea",
   "metadata": {},
   "outputs": [],
   "source": []
  },
  {
   "cell_type": "code",
   "execution_count": null,
   "id": "4fc94343",
   "metadata": {},
   "outputs": [],
   "source": []
  }
 ],
 "metadata": {
  "kernelspec": {
   "display_name": "Python 3",
   "language": "python",
   "name": "python3"
  },
  "language_info": {
   "codemirror_mode": {
    "name": "ipython",
    "version": 3
   },
   "file_extension": ".py",
   "mimetype": "text/x-python",
   "name": "python",
   "nbconvert_exporter": "python",
   "pygments_lexer": "ipython3",
   "version": "3.7.12"
  }
 },
 "nbformat": 4,
 "nbformat_minor": 5
}
