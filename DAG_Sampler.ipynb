{
 "cells": [
  {
   "cell_type": "code",
   "execution_count": 1,
   "metadata": {},
   "outputs": [],
   "source": [
    "import numpy as np\n",
    "from tqdm import tqdm\n",
    "from graph_sim import*"
   ]
  },
  {
   "cell_type": "code",
   "execution_count": 2,
   "metadata": {},
   "outputs": [
    {
     "name": "stdout",
     "output_type": "stream",
     "text": [
      "New graph found.\n",
      "New graph found.\n",
      "New graph found.\n",
      "Graph already sampled.\n",
      "New graph found.\n",
      "Graph already sampled.\n",
      "Graph already sampled.\n",
      "Graph already sampled.\n",
      "Graph already sampled.\n",
      "New graph found.\n"
     ]
    }
   ],
   "source": [
    "num_nodes = 3\n",
    "iterations = 10\n",
    "all_graphs = []\n",
    "\n",
    "for i in range(iterations):\n",
    "    graph, already_sampled_flag = generate_canonical_library(num_nodes=num_nodes,\n",
    "                                                             graph_history=np.asarray(all_graphs))\n",
    "    \n",
    "    if already_sampled_flag:\n",
    "        pass\n",
    "    else:\n",
    "        all_graphs.append(graph)\n",
    "\n",
    "all_graphs = np.asarray(all_graphs)"
   ]
  },
  {
   "cell_type": "code",
   "execution_count": null,
   "metadata": {},
   "outputs": [],
   "source": []
  },
  {
   "cell_type": "code",
   "execution_count": null,
   "metadata": {},
   "outputs": [],
   "source": []
  }
 ],
 "metadata": {
  "kernelspec": {
   "display_name": "Python 3",
   "language": "python",
   "name": "python3"
  },
  "language_info": {
   "codemirror_mode": {
    "name": "ipython",
    "version": 3
   },
   "file_extension": ".py",
   "mimetype": "text/x-python",
   "name": "python",
   "nbconvert_exporter": "python",
   "pygments_lexer": "ipython3",
   "version": "3.7.11"
  }
 },
 "nbformat": 4,
 "nbformat_minor": 4
}
